{
 "cells": [
  {
   "cell_type": "markdown",
   "id": "0ebf67fe",
   "metadata": {},
   "source": [
    "<font size=\"+3\"><strong> Wrangling Data with MongoDB 🇰🇪</strong></font>"
   ]
  },
  {
   "cell_type": "code",
   "execution_count": 1,
   "id": "0ef7c19e",
   "metadata": {},
   "outputs": [],
   "source": [
    "from pprint import PrettyPrinter\n",
    "\n",
    "import pandas as pd\n",
    "from pymongo import MongoClient"
   ]
  },
  {
   "cell_type": "markdown",
   "id": "4d6a46d6",
   "metadata": {},
   "source": [
    "**Task 3.1.1:** Instantiate a `PrettyPrinter`, and assign it to the variable `pp`.\n"
   ]
  },
  {
   "cell_type": "code",
   "execution_count": 2,
   "id": "bd13ea27",
   "metadata": {},
   "outputs": [],
   "source": [
    "pp = PrettyPrinter(indent=2)"
   ]
  },
  {
   "cell_type": "markdown",
   "id": "9cac68e1",
   "metadata": {},
   "source": [
    "# Prepare Data"
   ]
  },
  {
   "cell_type": "markdown",
   "id": "247387bf",
   "metadata": {},
   "source": [
    "## Connect"
   ]
  },
  {
   "cell_type": "markdown",
   "id": "9414bd7a",
   "metadata": {},
   "source": [
    "**Task 3.1.2:** Create a client that connects to the database running at `localhost` on port `27017`."
   ]
  },
  {
   "cell_type": "code",
   "execution_count": 3,
   "id": "75858f05",
   "metadata": {},
   "outputs": [],
   "source": [
    "client = MongoClient(host=\"localhost\",port=27017)"
   ]
  },
  {
   "cell_type": "markdown",
   "id": "107c05a7",
   "metadata": {},
   "source": [
    "## Explore"
   ]
  },
  {
   "cell_type": "markdown",
   "id": "93ad5df3",
   "metadata": {},
   "source": [
    "**Task 3.1.3:** Print a list of the databases available on `client`.\n"
   ]
  },
  {
   "cell_type": "code",
   "execution_count": 4,
   "id": "9e89049a",
   "metadata": {},
   "outputs": [
    {
     "name": "stdout",
     "output_type": "stream",
     "text": [
      "[ {'empty': False, 'name': 'admin', 'sizeOnDisk': 40960},\n",
      "  {'empty': False, 'name': 'air-quality', 'sizeOnDisk': 5406720},\n",
      "  {'empty': False, 'name': 'config', 'sizeOnDisk': 110592},\n",
      "  {'empty': False, 'name': 'local', 'sizeOnDisk': 90112}]\n"
     ]
    }
   ],
   "source": [
    "pp.pprint(list(client.list_databases()))"
   ]
  },
  {
   "cell_type": "markdown",
   "id": "9af3e611",
   "metadata": {},
   "source": [
    "**Task 3.1.4:** Assign the `\"air-quality\"` database to the variable `db`."
   ]
  },
  {
   "cell_type": "code",
   "execution_count": 5,
   "id": "3f9cf138",
   "metadata": {},
   "outputs": [],
   "source": [
    "db = client[\"air-quality\"]"
   ]
  },
  {
   "cell_type": "markdown",
   "id": "dc84a3db",
   "metadata": {},
   "source": [
    "**Task 3.1.5:** Use the [`list_collections`](https://pymongo.readthedocs.io/en/stable/api/pymongo/database.html?highlight=list_collections#pymongo.database.Database.list_collections) method to print a list of the collections available in `db`."
   ]
  },
  {
   "cell_type": "code",
   "execution_count": 6,
   "id": "957aad3d",
   "metadata": {},
   "outputs": [
    {
     "data": {
      "text/plain": [
       "{'name': 'nairobi',\n",
       " 'type': 'timeseries',\n",
       " 'options': {'timeseries': {'timeField': 'timestamp',\n",
       "   'metaField': 'metadata',\n",
       "   'granularity': 'seconds',\n",
       "   'bucketMaxSpanSeconds': 3600}},\n",
       " 'info': {'readOnly': False}}"
      ]
     },
     "execution_count": 6,
     "metadata": {},
     "output_type": "execute_result"
    }
   ],
   "source": [
    "list(db.list_collections())[2]"
   ]
  },
  {
   "cell_type": "code",
   "execution_count": 7,
   "id": "560b8058",
   "metadata": {},
   "outputs": [
    {
     "name": "stdout",
     "output_type": "stream",
     "text": [
      "lagos\n",
      "system.buckets.lagos\n",
      "nairobi\n",
      "system.buckets.nairobi\n",
      "dar-es-salaam\n",
      "system.buckets.dar-es-salaam\n",
      "system.views\n"
     ]
    }
   ],
   "source": [
    "for c in db.list_collections():\n",
    "    print(c[\"name\"])"
   ]
  },
  {
   "cell_type": "markdown",
   "id": "526ba097",
   "metadata": {},
   "source": [
    "**Task 3.1.6:** Assign the `\"nairobi\"` collection in `db` to the variable name `nairobi`.\n"
   ]
  },
  {
   "cell_type": "code",
   "execution_count": 8,
   "id": "3efe5255",
   "metadata": {},
   "outputs": [],
   "source": [
    "nairobi = db[\"nairobi\"]"
   ]
  },
  {
   "cell_type": "markdown",
   "id": "5452444a",
   "metadata": {},
   "source": [
    "**Task 3.1.7:** Use the [`count_documents`](https://pymongo.readthedocs.io/en/stable/api/pymongo/collection.html#pymongo.collection.Collection.count_documents) method to see how many documents are in the `nairobi` collection.\n"
   ]
  },
  {
   "cell_type": "code",
   "execution_count": 9,
   "id": "07fc096d",
   "metadata": {},
   "outputs": [
    {
     "data": {
      "text/plain": [
       "435206"
      ]
     },
     "execution_count": 9,
     "metadata": {},
     "output_type": "execute_result"
    }
   ],
   "source": [
    "nairobi.count_documents({})"
   ]
  },
  {
   "cell_type": "markdown",
   "id": "e4548045",
   "metadata": {},
   "source": [
    "**Task 3.1.8:** Use the [`find_one`](https://pymongo.readthedocs.io/en/stable/api/pymongo/collection.html#pymongo.collection.Collection.find_one) method to retrieve one document from the `nairobi` collection, and assign it to the variable name `result`."
   ]
  },
  {
   "cell_type": "code",
   "execution_count": 10,
   "id": "c7c37ae2",
   "metadata": {},
   "outputs": [
    {
     "name": "stdout",
     "output_type": "stream",
     "text": [
      "{ 'P2': 34.43,\n",
      "  '_id': ObjectId('64624fdf2d03b2bab2d399f2'),\n",
      "  'metadata': { 'lat': -1.3,\n",
      "                'lon': 36.785,\n",
      "                'measurement': 'P2',\n",
      "                'sensor_id': 57,\n",
      "                'sensor_type': 'SDS011',\n",
      "                'site': 29},\n",
      "  'timestamp': datetime.datetime(2018, 9, 1, 0, 0, 2, 472000)}\n"
     ]
    }
   ],
   "source": [
    "result = nairobi.find_one({})\n",
    "pp.pprint(result)"
   ]
  },
  {
   "cell_type": "markdown",
   "id": "c000649d",
   "metadata": {},
   "source": [
    "**Task 3.1.9:** Use the [`distinct`](https://pymongo.readthedocs.io/en/stable/api/pymongo/collection.html#pymongo.collection.Collection.distinct) method to determine how many sensor sites are included in the `nairobi` collection."
   ]
  },
  {
   "cell_type": "code",
   "execution_count": 11,
   "id": "c9bb18b0",
   "metadata": {},
   "outputs": [
    {
     "data": {
      "text/plain": [
       "[29, 6]"
      ]
     },
     "execution_count": 11,
     "metadata": {},
     "output_type": "execute_result"
    }
   ],
   "source": [
    "nairobi.distinct(\"metadata.site\")"
   ]
  },
  {
   "cell_type": "code",
   "execution_count": 12,
   "id": "7c18a6c5",
   "metadata": {},
   "outputs": [
    {
     "data": {
      "text/plain": [
       "['humidity', 'P2', 'P1', 'temperature']"
      ]
     },
     "execution_count": 12,
     "metadata": {},
     "output_type": "execute_result"
    }
   ],
   "source": [
    "nairobi.distinct(\"metadata.measurement\")"
   ]
  },
  {
   "cell_type": "markdown",
   "id": "018979f6",
   "metadata": {},
   "source": [
    "**Task 3.1.10:** Use the [`count_documents`](https://pymongo.readthedocs.io/en/stable/api/pymongo/collection.html#pymongo.collection.Collection.count_documents) method to determine how many readings there are for each site in the `nairobi` collection."
   ]
  },
  {
   "cell_type": "code",
   "execution_count": 13,
   "id": "092e36ff",
   "metadata": {},
   "outputs": [
    {
     "name": "stdout",
     "output_type": "stream",
     "text": [
      "Documents from site 6: 173036\n",
      "Documents from site 29: 262170\n"
     ]
    }
   ],
   "source": [
    "print(\"Documents from site 6:\", nairobi.count_documents({\"metadata.site\":6}))\n",
    "print(\"Documents from site 29:\",  nairobi.count_documents({\"metadata.site\":29}))"
   ]
  },
  {
   "cell_type": "markdown",
   "id": "496d7d41",
   "metadata": {},
   "source": [
    "**Task 3.1.11:** Use the [`aggregate`](https://pymongo.readthedocs.io/en/stable/api/pymongo/collection.html#pymongo.collection.Collection.aggregate) method to determine how many readings there are for each site in the `nairobi` collection."
   ]
  },
  {
   "cell_type": "code",
   "execution_count": 14,
   "id": "64e60da3",
   "metadata": {},
   "outputs": [
    {
     "name": "stdout",
     "output_type": "stream",
     "text": [
      "[{'_id': 6, 'count': 173036}, {'_id': 29, 'count': 262170}]\n"
     ]
    }
   ],
   "source": [
    "result = nairobi.aggregate(\n",
    "    [\n",
    "        {\"$group\":{\"_id\":\"$metadata.site\",\"count\":{\"$count\":{}}}}\n",
    "    ]\n",
    ")\n",
    "pp.pprint(list(result))"
   ]
  },
  {
   "cell_type": "markdown",
   "id": "b2f3d683",
   "metadata": {},
   "source": [
    "**Task 3.1.12:** Use the [`distinct`](https://pymongo.readthedocs.io/en/stable/api/pymongo/collection.html#pymongo.collection.Collection.distinct) method to determine how many types of measurements have been taken in the `nairobi` collection."
   ]
  },
  {
   "cell_type": "code",
   "execution_count": 15,
   "id": "030d7dd0",
   "metadata": {},
   "outputs": [
    {
     "data": {
      "text/plain": [
       "['humidity', 'P2', 'P1', 'temperature']"
      ]
     },
     "execution_count": 15,
     "metadata": {},
     "output_type": "execute_result"
    }
   ],
   "source": [
    "nairobi.distinct(\"metadata.measurement\")"
   ]
  },
  {
   "cell_type": "markdown",
   "id": "acf95e10",
   "metadata": {},
   "source": [
    "**Task 3.1.13:** Use the [`find`](https://pymongo.readthedocs.io/en/stable/api/pymongo/collection.html#pymongo.collection.Collection.find) method to retrieve the PM 2.5 readings from all sites. Be sure to limit your results to 3 records only.\n"
   ]
  },
  {
   "cell_type": "code",
   "execution_count": 16,
   "id": "3042cebe",
   "metadata": {},
   "outputs": [
    {
     "name": "stdout",
     "output_type": "stream",
     "text": [
      "[ { 'P2': 34.43,\n",
      "    '_id': ObjectId('64624fdf2d03b2bab2d399f2'),\n",
      "    'metadata': { 'lat': -1.3,\n",
      "                  'lon': 36.785,\n",
      "                  'measurement': 'P2',\n",
      "                  'sensor_id': 57,\n",
      "                  'sensor_type': 'SDS011',\n",
      "                  'site': 29},\n",
      "    'timestamp': datetime.datetime(2018, 9, 1, 0, 0, 2, 472000)},\n",
      "  { 'P2': 29.67,\n",
      "    '_id': ObjectId('64624fdf2d03b2bab2d399f6'),\n",
      "    'metadata': { 'lat': -1.3,\n",
      "                  'lon': 36.785,\n",
      "                  'measurement': 'P2',\n",
      "                  'sensor_id': 57,\n",
      "                  'sensor_type': 'SDS011',\n",
      "                  'site': 29},\n",
      "    'timestamp': datetime.datetime(2018, 9, 1, 0, 2, 32, 885000)},\n",
      "  { 'P2': 30.53,\n",
      "    '_id': ObjectId('64624fdf2d03b2bab2d399fa'),\n",
      "    'metadata': { 'lat': -1.3,\n",
      "                  'lon': 36.785,\n",
      "                  'measurement': 'P2',\n",
      "                  'sensor_id': 57,\n",
      "                  'sensor_type': 'SDS011',\n",
      "                  'site': 29},\n",
      "    'timestamp': datetime.datetime(2018, 9, 1, 0, 5, 3, 941000)}]\n"
     ]
    }
   ],
   "source": [
    "result = nairobi.find({\"metadata.measurement\":\"P2\"}).limit(3)\n",
    "pp.pprint(list(result))"
   ]
  },
  {
   "cell_type": "markdown",
   "id": "7099b393",
   "metadata": {},
   "source": [
    "**Task 3.1.14:** Use the [`aggregate`](https://pymongo.readthedocs.io/en/stable/api/pymongo/collection.html#pymongo.collection.Collection.aggregate) method to calculate how many readings there are for each type (`\"humidity\"`, `\"temperature\"`, `\"P2\"`, and `\"P1\"`) in site `6`."
   ]
  },
  {
   "cell_type": "code",
   "execution_count": 17,
   "id": "e3d47a02",
   "metadata": {},
   "outputs": [
    {
     "name": "stdout",
     "output_type": "stream",
     "text": [
      "[ {'_id': 'P1', 'count': 44624},\n",
      "  {'_id': 'temperature', 'count': 41894},\n",
      "  {'_id': 'humidity', 'count': 41894},\n",
      "  {'_id': 'P2', 'count': 44624}]\n"
     ]
    }
   ],
   "source": [
    "result = nairobi.aggregate(\n",
    "    [\n",
    "        {\"$match\":{\"metadata.site\":6}},\n",
    "        {\"$group\":{\"_id\":\"$metadata.measurement\",\"count\":{\"$count\":{}}}}\n",
    "    ]\n",
    ")\n",
    "pp.pprint(list(result))"
   ]
  },
  {
   "cell_type": "markdown",
   "id": "ab40eb75",
   "metadata": {},
   "source": [
    "**Task 3.1.15:** Use the [`aggregate`](https://pymongo.readthedocs.io/en/stable/api/pymongo/collection.html#pymongo.collection.Collection.aggregate) method to calculate how many readings there are for each type (`\"humidity\"`, `\"temperature\"`, `\"P2\"`, and `\"P1\"`) in site `29`."
   ]
  },
  {
   "cell_type": "code",
   "execution_count": 18,
   "id": "fe2138b3",
   "metadata": {},
   "outputs": [
    {
     "name": "stdout",
     "output_type": "stream",
     "text": [
      "[ {'_id': 'P2', 'count': 65432},\n",
      "  {'_id': 'humidity', 'count': 65653},\n",
      "  {'_id': 'temperature', 'count': 65653},\n",
      "  {'_id': 'P1', 'count': 65432}]\n"
     ]
    }
   ],
   "source": [
    "result = nairobi.aggregate(\n",
    "    [\n",
    "        {\"$match\":{\"metadata.site\":29}},\n",
    "        {\"$group\":{\"_id\":\"$metadata.measurement\",\"count\":{\"$count\":{}}}}\n",
    "    ]\n",
    ")\n",
    "pp.pprint(list(result))"
   ]
  },
  {
   "cell_type": "markdown",
   "id": "e3134895",
   "metadata": {},
   "source": [
    "## Import"
   ]
  },
  {
   "cell_type": "markdown",
   "id": "1280fb95",
   "metadata": {},
   "source": [
    "**Task 3.1.16:** Use the [`find`](https://pymongo.readthedocs.io/en/stable/api/pymongo/collection.html#pymongo.collection.Collection.find) method to retrieve the PM 2.5 readings from site `29`. Be sure to limit your results to 3 records only. Since we won't need the metadata for our model, use the `projection` argument to limit the results to the `\"P2\"` and `\"timestamp\"` keys only."
   ]
  },
  {
   "cell_type": "code",
   "execution_count": 33,
   "id": "26988e57",
   "metadata": {},
   "outputs": [],
   "source": [
    "result = nairobi.find(\n",
    "    {\"metadata.site\":29,\"metadata.measurement\":\"P2\"},\n",
    "    projection={\"P2\":1,\"timestamp\":1,\"_id\":0}\n",
    ")\n"
   ]
  },
  {
   "cell_type": "markdown",
   "id": "550edcd8",
   "metadata": {},
   "source": [
    "**Task 3.1.17:** Read records from your `result` into the DataFrame `df`. Be sure to set the index to `\"timestamp\"`."
   ]
  },
  {
   "cell_type": "code",
   "execution_count": 34,
   "id": "27159b77",
   "metadata": {},
   "outputs": [
    {
     "data": {
      "text/html": [
       "<div>\n",
       "<style scoped>\n",
       "    .dataframe tbody tr th:only-of-type {\n",
       "        vertical-align: middle;\n",
       "    }\n",
       "\n",
       "    .dataframe tbody tr th {\n",
       "        vertical-align: top;\n",
       "    }\n",
       "\n",
       "    .dataframe thead th {\n",
       "        text-align: right;\n",
       "    }\n",
       "</style>\n",
       "<table border=\"1\" class=\"dataframe\">\n",
       "  <thead>\n",
       "    <tr style=\"text-align: right;\">\n",
       "      <th></th>\n",
       "      <th>P2</th>\n",
       "    </tr>\n",
       "    <tr>\n",
       "      <th>timestamp</th>\n",
       "      <th></th>\n",
       "    </tr>\n",
       "  </thead>\n",
       "  <tbody>\n",
       "    <tr>\n",
       "      <th>2018-09-01 00:00:02.472</th>\n",
       "      <td>34.43</td>\n",
       "    </tr>\n",
       "    <tr>\n",
       "      <th>2018-09-01 00:02:32.885</th>\n",
       "      <td>29.67</td>\n",
       "    </tr>\n",
       "    <tr>\n",
       "      <th>2018-09-01 00:05:03.941</th>\n",
       "      <td>30.53</td>\n",
       "    </tr>\n",
       "    <tr>\n",
       "      <th>2018-09-01 00:07:33.748</th>\n",
       "      <td>25.77</td>\n",
       "    </tr>\n",
       "    <tr>\n",
       "      <th>2018-09-01 00:10:04.374</th>\n",
       "      <td>22.80</td>\n",
       "    </tr>\n",
       "  </tbody>\n",
       "</table>\n",
       "</div>"
      ],
      "text/plain": [
       "                            P2\n",
       "timestamp                     \n",
       "2018-09-01 00:00:02.472  34.43\n",
       "2018-09-01 00:02:32.885  29.67\n",
       "2018-09-01 00:05:03.941  30.53\n",
       "2018-09-01 00:07:33.748  25.77\n",
       "2018-09-01 00:10:04.374  22.80"
      ]
     },
     "execution_count": 34,
     "metadata": {},
     "output_type": "execute_result"
    }
   ],
   "source": [
    "df = pd.DataFrame(result).set_index(\"timestamp\")\n",
    "df.head()"
   ]
  },
  {
   "cell_type": "code",
   "execution_count": null,
   "id": "72c37f59",
   "metadata": {},
   "outputs": [],
   "source": []
  }
 ],
 "metadata": {
  "kernelspec": {
   "display_name": "Python 3 (ipykernel)",
   "language": "python",
   "name": "python3"
  },
  "language_info": {
   "codemirror_mode": {
    "name": "ipython",
    "version": 3
   },
   "file_extension": ".py",
   "mimetype": "text/x-python",
   "name": "python",
   "nbconvert_exporter": "python",
   "pygments_lexer": "ipython3",
   "version": "3.9.12"
  }
 },
 "nbformat": 4,
 "nbformat_minor": 5
}
